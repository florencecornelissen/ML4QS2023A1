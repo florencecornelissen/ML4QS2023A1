{
 "cells": [
  {
   "cell_type": "code",
   "execution_count": 80,
   "metadata": {},
   "outputs": [],
   "source": [
    "import pandas as pd\n",
    "import numpy as np\n",
    "from pathlib import Path\n",
    "import os\n",
    "from datetime import datetime, timedelta\n"
   ]
  },
  {
   "cell_type": "code",
   "execution_count": 81,
   "metadata": {},
   "outputs": [],
   "source": [
    "participants = ['Ivo', 'Flo', 'Joost']\n",
    "for participant in participants:\n",
    "\n",
    "    maps = [participant+'Squads', participant+'Lunges', participant+'JumpingJacks', participant+'LegRaises', participant+'Crunches', participant+'PushUps']\n",
    "\n",
    "    # Specify the directory containing the CSV files\n",
    "    directory = './datasets/exercises/Data'+participant+'/'\n",
    "\n",
    "    # Create an empty dictionary to store the DataFrames\n",
    "    dataframes = {}\n",
    "\n",
    "    # Loop through all files in the directory\n",
    "    for filename in os.listdir(directory):\n",
    "        if filename.endswith('.csv') and filename != 'device.csv':  # Check if the file is a CSV file\n",
    "            file_path = os.path.join(directory, filename)\n",
    "                \n",
    "            # Read the CSV file into a pandas DataFrame\n",
    "            df = pd.read_csv(file_path)\n",
    "                \n",
    "            # Assign a name to the DataFrame (e.g., using the filename without the extension)\n",
    "            name = filename[:-4]# Remove the '.csv' extension\n",
    "            dataframes[name] = df\n",
    "                \n",
    "            # Process the DataFrame or perform desired operations\n",
    "            # For example, you can print the contents of the DataFrame"
   ]
  },
  {
   "cell_type": "code",
   "execution_count": 82,
   "metadata": {},
   "outputs": [
    {
     "data": {
      "text/plain": [
       "{}"
      ]
     },
     "execution_count": 82,
     "metadata": {},
     "output_type": "execute_result"
    }
   ],
   "source": [
    "dataframes"
   ]
  },
  {
   "cell_type": "code",
   "execution_count": 75,
   "metadata": {},
   "outputs": [],
   "source": [
    "# Add our date as the first timestamp of each dataframe\n",
    "\n",
    "our_date = datetime.now() - timedelta(weeks=1)\n",
    "\n",
    "\n",
    "exercisedate = datetime(2023,6,7,14,13,30,636874)\n",
    "\n",
    "for df in dataframes:\n",
    "    print(df)\n",
    "    if df != 'time'+participant:\n",
    "        dataframes[df]['timestamps'] = exercisedate.timestamp() + dataframes[df]['timestep']\n",
    "        # dataframes[df].to_csv('./datasets/exercises/Data'+participant+'/'+df+'.csv', index=False)\n",
    "    if df == 'time'+participant:\n",
    "        dataframes[df]['label_start'] = exercisedate.timestamp() + dataframes[df]['start_timing']\n",
    "        dataframes[df]['label_end'] = exercisedate.timestamp() + dataframes[df]['end_timing']\n",
    "        # dataframes[df].to_csv('./datasets/exercises/Data'+participant+'/'+df+'.csv', index=False)\n",
    "\n",
    "    "
   ]
  },
  {
   "cell_type": "code",
   "execution_count": 66,
   "metadata": {},
   "outputs": [
    {
     "name": "stdout",
     "output_type": "stream",
     "text": [
      "1686140010.636874\n",
      "1686140013.017669\n"
     ]
    }
   ],
   "source": [
    "print(dataframes['timeJoost']['label_start'][0])\n",
    "print(dataframes['timeJoost']['label_end'][0])"
   ]
  },
  {
   "cell_type": "code",
   "execution_count": 12,
   "metadata": {},
   "outputs": [
    {
     "name": "stdout",
     "output_type": "stream",
     "text": [
      "1686743412.31441\n"
     ]
    }
   ],
   "source": [
    "timestamp = datetime.timestamp(now)\n",
    "endtime = timestamp + 4.0834\n",
    "print(endtime)"
   ]
  },
  {
   "cell_type": "code",
   "execution_count": 37,
   "metadata": {},
   "outputs": [
    {
     "name": "stdout",
     "output_type": "stream",
     "text": [
      "<class 'float'>\n"
     ]
    }
   ],
   "source": [
    "print(type(4.0834))"
   ]
  },
  {
   "cell_type": "code",
   "execution_count": null,
   "metadata": {},
   "outputs": [],
   "source": []
  }
 ],
 "metadata": {
  "kernelspec": {
   "display_name": "ML4QS2023",
   "language": "python",
   "name": "python3"
  },
  "language_info": {
   "codemirror_mode": {
    "name": "ipython",
    "version": 3
   },
   "file_extension": ".py",
   "mimetype": "text/x-python",
   "name": "python",
   "nbconvert_exporter": "python",
   "pygments_lexer": "ipython3",
   "version": "3.8.8"
  },
  "orig_nbformat": 4
 },
 "nbformat": 4,
 "nbformat_minor": 2
}
